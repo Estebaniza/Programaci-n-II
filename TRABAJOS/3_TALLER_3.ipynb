{
  "cells": [
    {
      "cell_type": "markdown",
      "metadata": {
        "id": "g-qSxhERcX2x"
      },
      "source": [
        "<h1><center><b>Introducción a Java II</b></center></h1>\n",
        "\n",
        "---\n"
      ]
    },
    {
      "cell_type": "markdown",
      "metadata": {
        "id": "CotrD_MsoBqJ"
      },
      "source": [
        "**Table of contents**<a id='toc0_'></a>    \n",
        "- [Objetivo](#toc1_1_)    \n",
        "  - [Clases Abstractas en Java](#toc1_2_)    \n",
        "    - [Definición](#toc1_2_1_)    \n",
        "    - [Ejercicio Práctico](#toc1_2_2_)    \n",
        "  - [Interfaces en Java](#toc1_3_)    \n",
        "    - [Definición](#toc1_3_1_)    \n",
        "    - [Ejercicio Práctico](#toc1_3_2_)    \n",
        "  - [Clase Abstracta vs Interfaz](#toc1_4_)    \n",
        "  - [Conclusión](#toc1_5_)    \n",
        "  - [Ejercicio Práctico](#toc1_6_)    \n",
        "      - [Instrucciones](#toc1_6_1_1_)    \n",
        "  - [Referencias](#toc1_7_)    \n",
        "      - [Guías y Tutoriales](#toc1_7_1_1_)    \n",
        "      - [Libros](#toc1_7_1_2_)    \n",
        "      - [Repositorios](#toc1_7_1_3_)    \n",
        "      - [Videos](#toc1_7_1_4_)    \n",
        "\n",
        "<!-- vscode-jupyter-toc-config\n",
        "\tnumbering=false\n",
        "\tanchor=true\n",
        "\tflat=false\n",
        "\tminLevel=1\n",
        "\tmaxLevel=6\n",
        "\t/vscode-jupyter-toc-config -->\n",
        "<!-- THIS CELL WILL BE REPLACED ON TOC UPDATE. DO NOT WRITE YOUR TEXT IN THIS CELL -->\n",
        "\n",
        "\n",
        "---"
      ]
    },
    {
      "cell_type": "code",
      "execution_count": 1,
      "metadata": {
        "vscode": {
          "languageId": "java"
        },
        "colab": {
          "base_uri": "https://localhost:8080/"
        },
        "id": "THVM4RRRoBqL",
        "outputId": "b596f6b4-2927-479a-e659-00f25c2cdac8"
      },
      "outputs": [
        {
          "output_type": "stream",
          "name": "stdout",
          "text": [
            "Installed java kernel into \"/usr/local/share/jupyter/kernels/java\"\n",
            "e2732061ad19c1afa4a33a58cb8f18a9-b6cff2bf09b6832344e576ea1e4731f0fb3df10c/install_ipc_proxy_kernel.py\n",
            "e2732061ad19c1afa4a33a58cb8f18a9-b6cff2bf09b6832344e576ea1e4731f0fb3df10c/ipc_proxy_kernel.py\n",
            "Moving java kernel from /usr/local/share/jupyter/kernels/java...\n",
            "Wrote modified kernel.json for java_tcp in /usr/local/share/jupyter/kernels/java_tcp/kernel.json\n",
            "Installing the proxy kernel in place of java in /usr/local/share/jupyter/kernels/java\n",
            "Installed proxy kernelspec: {\"argv\": [\"/usr/bin/python3\", \"/usr/local/share/jupyter/kernels/java/ipc_proxy_kernel.py\", \"{connection_file}\", \"--kernel=java_tcp\"], \"env\": {}, \"display_name\": \"Java\", \"language\": \"java\", \"interrupt_mode\": \"message\", \"metadata\": {}}\n",
            "Proxy kernel installed. Go to 'Runtime > Change runtime type' and select 'java'\n"
          ]
        },
        {
          "output_type": "stream",
          "name": "stderr",
          "text": [
            "/content/install.py:164: DeprecationWarning: replace is ignored. Installing a kernelspec always replaces an existing installation\n",
            "  install_dest = KernelSpecManager().install_kernel_spec(\n"
          ]
        }
      ],
      "source": [
        "%%sh\n",
        "# Install java kernel\n",
        "wget -q https://github.com/SpencerPark/IJava/releases/download/v1.3.0/ijava-1.3.0.zip\n",
        "unzip -q ijava-1.3.0.zip\n",
        "python install.py\n",
        "\n",
        "# Install proxy for the java kernel\n",
        "wget -qO- https://gist.github.com/SpencerPark/e2732061ad19c1afa4a33a58cb8f18a9/archive/b6cff2bf09b6832344e576ea1e4731f0fb3df10c.tar.gz | tar xvz --strip-components=1\n",
        "python install_ipc_proxy_kernel.py --kernel=java --implementation=ipc_proxy_kernel.py"
      ]
    },
    {
      "cell_type": "markdown",
      "metadata": {
        "id": "OKfA6iXix8MM"
      },
      "source": [
        "## <a id='toc1_5_'></a>[Conclusión](#toc0_)\n",
        "\n",
        "En esta clase, hemos explorado tres conceptos fundamentales en Java: objetos, interfaces y clases abstractas. Cada uno de estos elementos juega un papel crucial en la programación orientada a objetos, permitiendo la creación de software más modular y adaptable. Los objetos encapsulan datos y comportamientos, las interfaces permiten definir contratos de comportamiento, y las clases abstractas proporcionan una estructura común para diferentes implementaciones. Comprender y aplicar correctamente estos conceptos es esencial para cualquier desarrollador de Java que busque crear aplicaciones robustas y escalables.\n",
        "\n",
        "## <a id='toc1_6_'></a>[Ejercicio Práctico](#toc0_)\n",
        "\n",
        "\n",
        "Diseñar un sistema de gestión para una librería utilizando objetos, interfaces y clases abstractas en Java.\n",
        "\n",
        "#### <a id='toc1_6_1_1_'></a>[Instrucciones](#toc0_)\n",
        "1. Crear una interfaz `GestiónProducto` con métodos como `vender` y `mostrarDetalles`.\n",
        "2. Crear una clase abstracta `Producto` que implemente la interfaz y añada un método abstracto `calcularPrecio`.\n",
        "3. Extender `Producto` en clases concretas como `Libro`, `Revista`, y `CD`, implementando los métodos abstractos y específicos para cada tipo de producto.\n",
        "4. Crear un programa principal donde se instancien los objetos y se demuestren sus comportamientos, como vender productos y mostrar sus detalles.\n",
        "\n",
        "**Entregables:**\n",
        "- Código fuente en Java que implementa el sistema de gestión de la librería.\n"
      ]
    },
    {
      "cell_type": "markdown",
      "source": [
        "# **1.Solucion de Interfaz GestiónProducto**"
      ],
      "metadata": {
        "id": "iUQNUroiuWFM"
      }
    },
    {
      "cell_type": "code",
      "execution_count": 23,
      "metadata": {
        "vscode": {
          "languageId": "java"
        },
        "id": "YLCEJlkuoBqY",
        "colab": {
          "base_uri": "https://localhost:8080/"
        },
        "outputId": "4473247d-7f78-49eb-c5f8-50f99e906d25"
      },
      "outputs": [
        {
          "output_type": "stream",
          "name": "stdout",
          "text": [
            "Nombre:  El libro Introduction to Java Programming and Data Structures, Comprehensive Version\n",
            "Precio Total: 30000.0\n",
            "Autor: Y. Daniel Liang\n",
            "vendimos el objeto:  El libro Introduction to Java Programming and Data Structures, Comprehensive Version por 30000.0 pesos.\n",
            "\n",
            "Nombre:  La revista automobile\n",
            "Precio Total: 10000.0\n",
            "Número: 1\n",
            "vendimos el objeto:  La revista automobile por 10000.0 pesos.\n",
            "\n",
            "Nombre: El albun de Bob marly\n",
            "Precio Total: 150000.0\n",
            "Artista: El Artista Famoso de los años 70 y los 80\n",
            "vendimos el objeto: El albun de Bob marly por 150000.0 pesos.\n"
          ]
        }
      ],
      "source": [
        "public interface GestiónProducto {\n",
        "    void vender();\n",
        "    void mostrarDetalles();\n",
        "}\n",
        "//Clase Abstracta Producto//\n",
        "public abstract class Producto implements GestiónProducto {\n",
        "    public String nombre;\n",
        "    public double precio;\n",
        "\n",
        "    public Producto(String nombre, double precio) {\n",
        "        this.nombre = nombre;\n",
        "        this.precio = precio;\n",
        "    }\n",
        "\n",
        "    public abstract double calcularPrecio();\n",
        "\n",
        "    @Override\n",
        "    public void vender() {\n",
        "        System.out.println(\"vendimos el objeto: \" + nombre + \" por \" + calcularPrecio() + \" pesos.\");\n",
        "    }\n",
        "\n",
        "    @Override\n",
        "    public void mostrarDetalles() {\n",
        "        System.out.println(\"Nombre: \" + nombre);\n",
        "        System.out.println(\"Precio Total: \" + calcularPrecio());\n",
        "    }\n",
        "}\n",
        "//Clases Concretas Libro, Revista, y CD//\n",
        "public class Libro extends Producto {\n",
        "    public String autor;\n",
        "\n",
        "    public Libro(String nombre, double precio, String autor) {\n",
        "        super(nombre, precio);\n",
        "        this.autor = autor;\n",
        "    }\n",
        "\n",
        "    @Override\n",
        "    public double calcularPrecio() {\n",
        "        // Por simplicidad, el precio del libro se mantiene igual\n",
        "        return precio;\n",
        "    }\n",
        "\n",
        "    @Override\n",
        "    public void mostrarDetalles() {\n",
        "        super.mostrarDetalles();\n",
        "        System.out.println(\"Autor: \" + autor);\n",
        "    }\n",
        "}\n",
        "public class Revista extends Producto {\n",
        "    public int numero;\n",
        "\n",
        "    public Revista(String nombre, double precio, int numero) {\n",
        "        super(nombre, precio);\n",
        "        this.numero = numero;\n",
        "    }\n",
        "\n",
        "    @Override\n",
        "    public double calcularPrecio() {\n",
        "        // Supongamos que las revistas tienen un precio fijo\n",
        "        return precio;\n",
        "    }\n",
        "\n",
        "    @Override\n",
        "    public void mostrarDetalles() {\n",
        "        super.mostrarDetalles();\n",
        "        System.out.println(\"Número: \" + numero);\n",
        "    }\n",
        "}\n",
        "public class CD extends Producto {\n",
        "    public String artista;\n",
        "\n",
        "    public CD(String nombre, double precio, String artista) {\n",
        "        super(nombre, precio);\n",
        "        this.artista = artista;\n",
        "    }\n",
        "\n",
        "    @Override\n",
        "    public double calcularPrecio() {\n",
        "        // Supongamos que los CD tienen un precio fijo\n",
        "        return precio;\n",
        "    }\n",
        "\n",
        "    @Override\n",
        "    public void mostrarDetalles() {\n",
        "        super.mostrarDetalles();\n",
        "        System.out.println(\"Artista: \" + artista);\n",
        "    }\n",
        "}\n",
        "//clase principal//\n",
        "public class ProgramaPrincipal {\n",
        "    public static void main(String[] args) {\n",
        "        Producto libro = new Libro(\" El libro Introduction to Java Programming and Data Structures, Comprehensive Version\", 30000.0, \"Y. Daniel Liang\");\n",
        "        Producto revista = new Revista(\" La revista automobile\", 10000.0, 1);\n",
        "        Producto cd = new CD(\"El albun de Bob marly\", 150000.0, \"El Artista Famoso de los años 70 y los 80\");\n",
        "\n",
        "        // Mostrar detalles y vendiendo productos\n",
        "        libro.mostrarDetalles();\n",
        "        libro.vender();\n",
        "\n",
        "        System.out.println();\n",
        "\n",
        "        revista.mostrarDetalles();\n",
        "        revista.vender();\n",
        "\n",
        "        System.out.println();\n",
        "\n",
        "        cd.mostrarDetalles();\n",
        "        cd.vender();\n",
        "    }\n",
        "}\n",
        "  ProgramaPrincipal test = new ProgramaPrincipal();\n",
        "  test.main(new String[] {});"
      ]
    },
    {
      "cell_type": "markdown",
      "metadata": {
        "id": "Da1uCwguoBqZ"
      },
      "source": [
        "## <a id='toc1_7_'></a>[Referencias](#toc0_)\n",
        "\n",
        "#### <a id='toc1_7_1_1_'></a>[Guías y Tutoriales](#toc0_)\n",
        "  - [Abstract Classes in Java](https://www.baeldung.com/java-abstract-class)\n",
        "  - [Abstract class in Java](https://www.javatpoint.com/abstract-class-in-java)\n",
        "  - [Abstract class in Java](https://stackoverflow.com/questions/1320745/abstract-class-in-java)\n",
        "  - [How should I have explained the difference between an Interface and an Abstract class? [closed]](https://stackoverflow.com/questions/18777989/how-should-i-have-explained-the-difference-between-an-interface-and-an-abstract)\n",
        "  - [Using an Interface vs. Abstract Class in Java](https://www.baeldung.com/java-interface-vs-abstract-class)\n",
        "  - [Difference between Abstract Class and Interface in Java](https://www.digitalocean.com/community/tutorials/difference-between-abstract-class-and-interface-in-java)\n",
        "  - [Difference between abstract class and interface](https://www.javatpoint.com/difference-between-abstract-class-and-interface)\n",
        "\n",
        "#### <a id='toc1_7_1_2_'></a>[Libros](#toc0_)\n",
        "\n",
        "- Y. Daniel Liang. *\"Introduction to Java Programming and Data Structures, Comprehensive Version\"*. Addison Wesley. Edición 12 (2019). Capítulo 13.\n",
        "- Koffman, Elliot B.; Wolfgang, Paul A. T.\"*Data structures : abstraction and design using Java\"*. Wiley. Tercera edición (2016). Capítulo 2.5, página 101.\n",
        "\n",
        "\n",
        "#### <a id='toc1_7_1_3_'></a>[Repositorios](#toc0_)\n",
        "\n",
        "- [Intro-to-Java-Programming](https://github.com/jsquared21/Intro-to-Java-Programming)\n",
        "- [Source Code - Introduction to Java Programming and Data Structures, Comprehensive Version, 12th Edition](https://media.pearsoncmg.com/ph/esm/ecs_liang_ijp_12/cw/content/source-code.php)\n",
        "\n",
        "\n",
        "#### <a id='toc1_7_1_4_'></a>[Videos](#toc0_)\n",
        "\n",
        "- [Abstract Classes and Methods in Java Explained in 7 Minutes ](https://www.youtube.com/watch?v=HvPlEJ3LHgE)"
      ]
    }
  ],
  "metadata": {
    "colab": {
      "provenance": []
    },
    "kernelspec": {
      "display_name": "Java",
      "name": "java"
    }
  },
  "nbformat": 4,
  "nbformat_minor": 0
}